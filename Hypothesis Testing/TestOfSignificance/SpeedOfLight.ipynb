{
 "metadata": {
  "language_info": {
   "codemirror_mode": {
    "name": "ipython",
    "version": 3
   },
   "file_extension": ".py",
   "mimetype": "text/x-python",
   "name": "python",
   "nbconvert_exporter": "python",
   "pygments_lexer": "ipython3",
   "version": 3
  },
  "orig_nbformat": 2,
  "kernelspec": {
   "name": "python_defaultSpec_1596908364572",
   "display_name": "Python 3.8.2 32-bit"
  }
 },
 "nbformat": 4,
 "nbformat_minor": 2,
 "cells": [
  {
   "cell_type": "markdown",
   "metadata": {},
   "source": [
    "One sample test: Data for one diemnsion and test statistic of other\n",
    "\n",
    "- Michelson and Newcomb: speed of light pioneers\n",
    "- We have Michelson and Newcomb speed reported  mean speed of light: \n",
    " - Michelson  : 299,852 Km/s \n",
    "- Newcomb    :  299,860 Km/s\n",
    "\n",
    "We have Michelson data  and Newcomb's absolute mean value:\n",
    "we need to check if there is fundamental diffrence in they reported figured?\n",
    "\n",
    "Workplan:\n",
    "- - Shift Michelson data by its's mean and add Newcomb's reported value\n"
   ]
  },
  {
   "cell_type": "code",
   "execution_count": 1,
   "metadata": {},
   "outputs": [],
   "source": [
    "import pandas as pd\n",
    "import numpy as np\n",
    "import matplotlib.pyplot as plt \n",
    "plt.style.use('fivethirtyeight')\n",
    "%matplotlib inline\n",
    "url ='https://raw.githubusercontent.com/iqbalamo93/Datasets/master/michelson_speed_of_light.csv'\n",
    "data = pd.read_csv(url)"
   ]
  },
  {
   "cell_type": "code",
   "execution_count": 15,
   "metadata": {
    "tags": []
   },
   "outputs": [
    {
     "output_type": "stream",
     "name": "stdout",
     "text": "michelson_speed_mean: 299852.4\nMean diffrence is -7.599999999976717\n"
    }
   ],
   "source": [
    "michelson_speed = np.array(data[['velocity of light in air (km/s)']]).ravel()\n",
    "michelson_speed_mean = np.mean(michelson_speed)\n",
    "print(f'michelson_speed_mean: {michelson_speed_mean}')\n",
    "print(f'Mean diffrence is {michelson_speed_mean-299860}')"
   ]
  },
  {
   "cell_type": "code",
   "execution_count": 16,
   "metadata": {},
   "outputs": [],
   "source": [
    "newcomb_vale = 299860\n",
    "michelson_shifted = michelson_speed - michelson_speed_mean + newcomb_vale"
   ]
  },
  {
   "cell_type": "code",
   "execution_count": 17,
   "metadata": {},
   "outputs": [],
   "source": [
    "def mean_diff(data1):\n",
    "    return np.mean(data1)-newcomb_vale"
   ]
  },
  {
   "cell_type": "code",
   "execution_count": 18,
   "metadata": {
    "tags": []
   },
   "outputs": [
    {
     "output_type": "stream",
     "name": "stdout",
     "text": "Mean diffrence is -7.599999999976717\n"
    }
   ],
   "source": [
    "diff_obs = mean_diff(michelson_speed)\n",
    "print(f'Mean diffrence is {diff_obs}')"
   ]
  },
  {
   "cell_type": "code",
   "execution_count": 19,
   "metadata": {},
   "outputs": [],
   "source": [
    "\n",
    "def draw_bs_reps(sample, func, size=1):\n",
    "    \"\"\"Draw bootstrap replicates.\"\"\"\n",
    "    # Initialize array of replicates\n",
    "    bs_replicates = np.empty(size)\n",
    "    # Generate replicates\n",
    "    for i in range(size):\n",
    "        booted = np.random.choice(sample,len(sample))\n",
    "        bs_replicates[i] = func(booted)\n",
    "        \n",
    "    return bs_replicates"
   ]
  },
  {
   "cell_type": "code",
   "execution_count": 20,
   "metadata": {},
   "outputs": [],
   "source": [
    "bs_replicates = draw_bs_reps(sample= michelson_shifted,func=mean_diff,size= 10000)\n",
    "p_value = np.sum(bs_replicates <= diff_obs) / 10000 \n",
    "'''<= as Michelson mean was less and we expect , under Ho: equal or less diffrence is expected  '''"
   ]
  },
  {
   "cell_type": "code",
   "execution_count": 23,
   "metadata": {},
   "outputs": [
    {
     "output_type": "execute_result",
     "data": {
      "text/plain": "'P is high, null will fly: Accept Ho'"
     },
     "metadata": {},
     "execution_count": 23
    }
   ],
   "source": [
    "def sig_test(p,threshold=0.05):\n",
    "    if p>=threshold:\n",
    "        return f'P is high, null will fly: Accept Ho'\n",
    "    else:\n",
    "        return f'P is lower than threshold, Accept alternative'\n",
    "sig_test(p=p_value)"
   ]
  },
  {
   "cell_type": "code",
   "execution_count": null,
   "metadata": {},
   "outputs": [],
   "source": []
  }
 ]
}